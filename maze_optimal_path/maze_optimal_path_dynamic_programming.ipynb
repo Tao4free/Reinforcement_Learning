{
  "nbformat": 4,
  "nbformat_minor": 0,
  "metadata": {
    "colab": {
      "name": "maze-optimal-path_dynamic-programming.ipynb",
      "provenance": [],
      "collapsed_sections": [],
      "include_colab_link": true
    },
    "kernelspec": {
      "name": "python3",
      "display_name": "Python 3"
    }
  },
  "cells": [
    {
      "cell_type": "markdown",
      "metadata": {
        "id": "view-in-github",
        "colab_type": "text"
      },
      "source": [
        "<a href=\"https://colab.research.google.com/github/Tao4free/Reinforcement_Learning/blob/master/maze_optimal_path/maze_optimal_path_dynamic_programming.ipynb\" target=\"_parent\"><img src=\"https://colab.research.google.com/assets/colab-badge.svg\" alt=\"Open In Colab\"/></a>"
      ]
    },
    {
      "cell_type": "code",
      "metadata": {
        "id": "Jix_R0BlMQ9x",
        "colab_type": "code",
        "colab": {
          "base_uri": "https://localhost:8080/",
          "height": 248
        },
        "outputId": "a23c1dfa-43df-4e8f-cfb4-9d161efc3cdd"
      },
      "source": [
        "import numpy as np\n",
        "import matplotlib.pyplot as plt\n",
        "from matplotlib import colors\n",
        "\n",
        "FONTSIZE = 30\n",
        "LEFT = \"←\"\n",
        "RIGHT = \"→\"\n",
        "UP = \"↑\"\n",
        "DOWN = \"↓\"\n",
        "\n",
        "class Maze:\n",
        "  def __init__(self, width=9, height=6):\n",
        "    self.shape = (height, width)\n",
        "    self.maze = np.zeros(self.shape, dtype=int)\n",
        "    self.mkmaze()\n",
        "\n",
        "    self.states = np.ndindex(self.shape)\n",
        "    # for x in self.states: print(x)\n",
        "    # [print(x) for x in self.states]\n",
        "    self.actions = [(1, 0), (-1, 0), (0, 1), (0, -1)]\n",
        "\n",
        "    self.policy = {}\n",
        "    self.value = {}\n",
        "\n",
        "\n",
        "\n",
        "  def mkmaze(self):\n",
        "    # make wall for maze\n",
        "    self.maze[2:5,2] = 1\n",
        "    self.maze[1,5] = 1\n",
        "    self.maze[3:6,7] = 1\n",
        "\n",
        "  def drawstate(self):\n",
        "    # make a color map of fixed colors\n",
        "    cmap = colors.ListedColormap(['white', 'grey'])\n",
        "    bounds=[0,5,10]\n",
        "    norm = colors.BoundaryNorm(bounds, cmap.N)\n",
        "\n",
        "    fig, ax = plt.subplots() #1, figsize=(9, 6))\n",
        "  \n",
        "\n",
        "    ax.pcolor(self.maze, edgecolors='k', linewidths=0.5, cmap=cmap)\n",
        "    ax.set_xticks([]),ax.set_yticks([])\n",
        "\n",
        "    ax.axis('off')\n",
        "\n",
        "    ax.spines['right'].set_linewidth(0.5)\n",
        "    ax.spines['top'].set_linewidth(0.5)\n",
        "    ax.spines['bottom'].set_linewidth(0.5)\n",
        "    ax.spines['left'].set_linewidth(0.5)\n",
        "\n",
        "    ax.spines['bottom'].set_color('k')\n",
        "    ax.spines['top'].set_color('k')\n",
        "    ax.spines['left'].set_color('k')\n",
        "    ax.spines['right'].set_color('k')\n",
        "\n",
        "    ax.text(0.5, 3.5, 'S', fontsize=FONTSIZE, ha=\"center\", va=\"center\")\n",
        "    ax.text(8.5, 5.5, 'G', fontsize=FONTSIZE, ha=\"center\", va=\"center\")\n",
        "    ax.text(5.5, 4.5, '■', fontsize=FONTSIZE, ha=\"center\", va=\"center\")\n",
        "    ax.text(3.5, 4.5, LEFT, fontsize=FONTSIZE, ha=\"center\", va=\"center\", color = \"deepskyblue\")\n",
        "\n",
        "    # ax.arrow(0.5, 0.5, 0, 0.2, head_width=0.05, head_length=0.1, fc='k', ec='k')\n",
        "\n",
        "    plt.show()\n",
        "\n",
        "  def getmaze(self):\n",
        "    print(self.maze)\n",
        "    return self.maze\n",
        "  \n",
        "\n",
        "maze = Maze()\n",
        "maze.drawstate()"
      ],
      "execution_count": 49,
      "outputs": [
        {
          "output_type": "display_data",
          "data": {
            "image/png": "[encoded data removed]",
            "text/plain": [
              "<Figure size 432x288 with 1 Axes>"
            ]
          },
          "metadata": {
            "tags": []
          }
        }
      ]
    }
  ]
}