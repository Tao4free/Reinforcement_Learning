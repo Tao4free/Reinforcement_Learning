{
  "nbformat": 4,
  "nbformat_minor": 0,
  "metadata": {
    "colab": {
      "name": "maze-optimal-path_dynamic-programming.ipynb",
      "provenance": [],
      "collapsed_sections": [],
      "include_colab_link": true
    },
    "kernelspec": {
      "name": "python3",
      "display_name": "Python 3"
    }
  },
  "cells": [
    {
      "cell_type": "markdown",
      "metadata": {
        "id": "view-in-github",
        "colab_type": "text"
      },
      "source": [
        "<a href=\"https://colab.research.google.com/github/Tao4free/Reinforcement_Learning/blob/master/maze_optimal_path/maze_optimal_path_dynamic_programming.ipynb\" target=\"_parent\"><img src=\"https://colab.research.google.com/assets/colab-badge.svg\" alt=\"Open In Colab\"/></a>"
      ]
    },
    {
      "cell_type": "code",
      "metadata": {
        "id": "Jix_R0BlMQ9x",
        "colab_type": "code",
        "outputId": "e0005c6f-9fc8-47c0-db95-2d5b70d0ab6b",
        "colab": {
          "base_uri": "https://localhost:8080/",
          "height": 252
        }
      },
      "source": [
        "import numpy as np\n",
        "import matplotlib.pyplot as plt\n",
        "from matplotlib import colors\n",
        "\n",
        "FONTSIZE = 30\n",
        "LEFT = \"←\"\n",
        "RIGHT = \"→\"\n",
        "UP = \"↑\"\n",
        "DOWN = \"↓\"\n",
        "\n",
        " \n",
        "def maze(width, height):\n",
        "    # Only odd shapes\n",
        "    shape = (height, width)\n",
        "    # Build actual maze\n",
        "    Z = np.zeros(shape, dtype=bool)\n",
        "    # Fill borders\n",
        "    # Z[0,:] = Z[-1,:] = 1\n",
        "    # Z[:,0] = Z[:,-1] = 1\n",
        "    Z[2:5,2] = 1\n",
        "    Z[1,5] = 1\n",
        "    Z[3:6,7] = 1\n",
        "\n",
        "    return Z\n",
        "\n",
        "# make a color map of fixed colors\n",
        "cmap = colors.ListedColormap(['white', 'grey'])\n",
        "bounds=[0,5,10]\n",
        "norm = colors.BoundaryNorm(bounds, cmap.N)\n",
        "\n",
        "fig, ax = plt.subplots() #1, figsize=(9, 6))\n",
        "\n",
        "# ax.figure(figsize=(10,5))\n",
        "# ax.imshow(maze(9,6), cmap=cmap)\n",
        "ax.pcolor(maze(9,6), edgecolors='k', linewidths=0.5, cmap=cmap)\n",
        "# plt.plot(maze(9,6))\n",
        "ax.set_xticks([]),ax.set_yticks([])\n",
        "ax.axes.linewidth = 0\n",
        "# ax.axis('off')\n",
        "ax.spines['right'].set_linewidth(0)\n",
        "ax.spines['top'].set_linewidth(0)\n",
        "ax.spines['bottom'].set_linewidth(0.5)\n",
        "ax.spines['left'].set_linewidth(0.5)\n",
        "\n",
        "# print( subplot.get_array())\n",
        "\n",
        "ax.text(0.5, 3.5, 'S', fontsize=FONTSIZE, ha=\"center\", va=\"center\")\n",
        "ax.text(8.5, 5.5, 'G', fontsize=FONTSIZE, ha=\"center\", va=\"center\")\n",
        "ax.text(5.5, 4.5, '■', fontsize=FONTSIZE, ha=\"center\", va=\"center\")\n",
        "\n",
        "ax.text(3.5, 4.5, LEFT, fontsize=FONTSIZE, ha=\"center\", va=\"center\", color = \"lightGreen\")\n",
        "\n",
        "# Don't allow the axis to be on top of your data\n",
        "# ax.set_axisbelow(True)\n",
        "\n",
        "# Customize the grid\n",
        "# ax.grid(linestyle='-', linewidth='0.5', color='blue')\n",
        "\n",
        "plt.show()"
      ],
      "execution_count": 253,
      "outputs": [
        {
          "output_type": "display_data",
          "data": {
            "image/png": "[encoded data removed]",
            "text/plain": [
              "<Figure size 432x288 with 1 Axes>"
            ]
          },
          "metadata": {
            "tags": []
          }
        }
      ]
    }
  ]
}